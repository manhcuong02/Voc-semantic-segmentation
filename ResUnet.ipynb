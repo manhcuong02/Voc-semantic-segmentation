{
  "cells": [
    {
      "cell_type": "markdown",
      "metadata": {
        "id": "view-in-github",
        "colab_type": "text"
      },
      "source": [
        "<a href=\"https://colab.research.google.com/github/manhcuong02/Voc-semantic-segmentation/blob/main/ResUnet.ipynb\" target=\"_parent\"><img src=\"https://colab.research.google.com/assets/colab-badge.svg\" alt=\"Open In Colab\"/></a>"
      ]
    },
    {
      "cell_type": "code",
      "execution_count": 1,
      "id": "0944911d",
      "metadata": {
        "execution": {
          "iopub.execute_input": "2023-06-06T17:15:37.558912Z",
          "iopub.status.busy": "2023-06-06T17:15:37.558479Z",
          "iopub.status.idle": "2023-06-06T17:16:26.711188Z",
          "shell.execute_reply": "2023-06-06T17:16:26.710084Z"
        },
        "id": "0944911d",
        "outputId": "81d9e7f1-61fb-4e18-e1aa-c20657a04786",
        "papermill": {
          "duration": 49.164471,
          "end_time": "2023-06-06T17:16:26.713616",
          "exception": false,
          "start_time": "2023-06-06T17:15:37.549145",
          "status": "completed"
        },
        "tags": [],
        "colab": {
          "base_uri": "https://localhost:8080/"
        }
      },
      "outputs": [
        {
          "output_type": "stream",
          "name": "stdout",
          "text": [
            "Looking in indexes: https://pypi.org/simple, https://us-python.pkg.dev/colab-wheels/public/simple/\n",
            "Requirement already satisfied: albumentations in /usr/local/lib/python3.10/dist-packages (1.2.1)\n",
            "Requirement already satisfied: numpy>=1.11.1 in /usr/local/lib/python3.10/dist-packages (from albumentations) (1.22.4)\n",
            "Requirement already satisfied: scipy in /usr/local/lib/python3.10/dist-packages (from albumentations) (1.10.1)\n",
            "Requirement already satisfied: scikit-image>=0.16.1 in /usr/local/lib/python3.10/dist-packages (from albumentations) (0.19.3)\n",
            "Requirement already satisfied: PyYAML in /usr/local/lib/python3.10/dist-packages (from albumentations) (6.0)\n",
            "Requirement already satisfied: qudida>=0.0.4 in /usr/local/lib/python3.10/dist-packages (from albumentations) (0.0.4)\n",
            "Requirement already satisfied: opencv-python-headless>=4.1.1 in /usr/local/lib/python3.10/dist-packages (from albumentations) (4.7.0.72)\n",
            "Requirement already satisfied: scikit-learn>=0.19.1 in /usr/local/lib/python3.10/dist-packages (from qudida>=0.0.4->albumentations) (1.2.2)\n",
            "Requirement already satisfied: typing-extensions in /usr/local/lib/python3.10/dist-packages (from qudida>=0.0.4->albumentations) (4.5.0)\n",
            "Requirement already satisfied: networkx>=2.2 in /usr/local/lib/python3.10/dist-packages (from scikit-image>=0.16.1->albumentations) (3.1)\n",
            "Requirement already satisfied: pillow!=7.1.0,!=7.1.1,!=8.3.0,>=6.1.0 in /usr/local/lib/python3.10/dist-packages (from scikit-image>=0.16.1->albumentations) (8.4.0)\n",
            "Requirement already satisfied: imageio>=2.4.1 in /usr/local/lib/python3.10/dist-packages (from scikit-image>=0.16.1->albumentations) (2.25.1)\n",
            "Requirement already satisfied: tifffile>=2019.7.26 in /usr/local/lib/python3.10/dist-packages (from scikit-image>=0.16.1->albumentations) (2023.4.12)\n",
            "Requirement already satisfied: PyWavelets>=1.1.1 in /usr/local/lib/python3.10/dist-packages (from scikit-image>=0.16.1->albumentations) (1.4.1)\n",
            "Requirement already satisfied: packaging>=20.0 in /usr/local/lib/python3.10/dist-packages (from scikit-image>=0.16.1->albumentations) (23.1)\n",
            "Requirement already satisfied: joblib>=1.1.1 in /usr/local/lib/python3.10/dist-packages (from scikit-learn>=0.19.1->qudida>=0.0.4->albumentations) (1.2.0)\n",
            "Requirement already satisfied: threadpoolctl>=2.0.0 in /usr/local/lib/python3.10/dist-packages (from scikit-learn>=0.19.1->qudida>=0.0.4->albumentations) (3.1.0)\n",
            "Looking in indexes: https://pypi.org/simple, https://us-python.pkg.dev/colab-wheels/public/simple/\n",
            "Collecting segmentation_models_pytorch\n",
            "  Downloading segmentation_models_pytorch-0.3.3-py3-none-any.whl (106 kB)\n",
            "\u001b[2K     \u001b[90m━━━━━━━━━━━━━━━━━━━━━━━━━━━━━━━━━━━━━━━\u001b[0m \u001b[32m106.7/106.7 kB\u001b[0m \u001b[31m3.6 MB/s\u001b[0m eta \u001b[36m0:00:00\u001b[0m\n",
            "\u001b[?25hRequirement already satisfied: torchvision>=0.5.0 in /usr/local/lib/python3.10/dist-packages (from segmentation_models_pytorch) (0.15.2+cu118)\n",
            "Collecting pretrainedmodels==0.7.4 (from segmentation_models_pytorch)\n",
            "  Downloading pretrainedmodels-0.7.4.tar.gz (58 kB)\n",
            "\u001b[2K     \u001b[90m━━━━━━━━━━━━━━━━━━━━━━━━━━━━━━━━━━━━━━━━\u001b[0m \u001b[32m58.8/58.8 kB\u001b[0m \u001b[31m6.9 MB/s\u001b[0m eta \u001b[36m0:00:00\u001b[0m\n",
            "\u001b[?25h  Preparing metadata (setup.py) ... \u001b[?25l\u001b[?25hdone\n",
            "Collecting efficientnet-pytorch==0.7.1 (from segmentation_models_pytorch)\n",
            "  Downloading efficientnet_pytorch-0.7.1.tar.gz (21 kB)\n",
            "  Preparing metadata (setup.py) ... \u001b[?25l\u001b[?25hdone\n",
            "Collecting timm==0.9.2 (from segmentation_models_pytorch)\n",
            "  Downloading timm-0.9.2-py3-none-any.whl (2.2 MB)\n",
            "\u001b[2K     \u001b[90m━━━━━━━━━━━━━━━━━━━━━━━━━━━━━━━━━━━━━━━━\u001b[0m \u001b[32m2.2/2.2 MB\u001b[0m \u001b[31m38.8 MB/s\u001b[0m eta \u001b[36m0:00:00\u001b[0m\n",
            "\u001b[?25hRequirement already satisfied: tqdm in /usr/local/lib/python3.10/dist-packages (from segmentation_models_pytorch) (4.65.0)\n",
            "Requirement already satisfied: pillow in /usr/local/lib/python3.10/dist-packages (from segmentation_models_pytorch) (8.4.0)\n",
            "Requirement already satisfied: torch in /usr/local/lib/python3.10/dist-packages (from efficientnet-pytorch==0.7.1->segmentation_models_pytorch) (2.0.1+cu118)\n",
            "Collecting munch (from pretrainedmodels==0.7.4->segmentation_models_pytorch)\n",
            "  Downloading munch-3.0.0-py2.py3-none-any.whl (10 kB)\n",
            "Requirement already satisfied: pyyaml in /usr/local/lib/python3.10/dist-packages (from timm==0.9.2->segmentation_models_pytorch) (6.0)\n",
            "Collecting huggingface-hub (from timm==0.9.2->segmentation_models_pytorch)\n",
            "  Downloading huggingface_hub-0.15.1-py3-none-any.whl (236 kB)\n",
            "\u001b[2K     \u001b[90m━━━━━━━━━━━━━━━━━━━━━━━━━━━━━━━━━━━━━━\u001b[0m \u001b[32m236.8/236.8 kB\u001b[0m \u001b[31m26.0 MB/s\u001b[0m eta \u001b[36m0:00:00\u001b[0m\n",
            "\u001b[?25hCollecting safetensors (from timm==0.9.2->segmentation_models_pytorch)\n",
            "  Downloading safetensors-0.3.1-cp310-cp310-manylinux_2_17_x86_64.manylinux2014_x86_64.whl (1.3 MB)\n",
            "\u001b[2K     \u001b[90m━━━━━━━━━━━━━━━━━━━━━━━━━━━━━━━━━━━━━━━━\u001b[0m \u001b[32m1.3/1.3 MB\u001b[0m \u001b[31m65.7 MB/s\u001b[0m eta \u001b[36m0:00:00\u001b[0m\n",
            "\u001b[?25hRequirement already satisfied: numpy in /usr/local/lib/python3.10/dist-packages (from torchvision>=0.5.0->segmentation_models_pytorch) (1.22.4)\n",
            "Requirement already satisfied: requests in /usr/local/lib/python3.10/dist-packages (from torchvision>=0.5.0->segmentation_models_pytorch) (2.27.1)\n",
            "Requirement already satisfied: filelock in /usr/local/lib/python3.10/dist-packages (from torch->efficientnet-pytorch==0.7.1->segmentation_models_pytorch) (3.12.0)\n",
            "Requirement already satisfied: typing-extensions in /usr/local/lib/python3.10/dist-packages (from torch->efficientnet-pytorch==0.7.1->segmentation_models_pytorch) (4.5.0)\n",
            "Requirement already satisfied: sympy in /usr/local/lib/python3.10/dist-packages (from torch->efficientnet-pytorch==0.7.1->segmentation_models_pytorch) (1.11.1)\n",
            "Requirement already satisfied: networkx in /usr/local/lib/python3.10/dist-packages (from torch->efficientnet-pytorch==0.7.1->segmentation_models_pytorch) (3.1)\n",
            "Requirement already satisfied: jinja2 in /usr/local/lib/python3.10/dist-packages (from torch->efficientnet-pytorch==0.7.1->segmentation_models_pytorch) (3.1.2)\n",
            "Requirement already satisfied: triton==2.0.0 in /usr/local/lib/python3.10/dist-packages (from torch->efficientnet-pytorch==0.7.1->segmentation_models_pytorch) (2.0.0)\n",
            "Requirement already satisfied: cmake in /usr/local/lib/python3.10/dist-packages (from triton==2.0.0->torch->efficientnet-pytorch==0.7.1->segmentation_models_pytorch) (3.25.2)\n",
            "Requirement already satisfied: lit in /usr/local/lib/python3.10/dist-packages (from triton==2.0.0->torch->efficientnet-pytorch==0.7.1->segmentation_models_pytorch) (16.0.5)\n",
            "Requirement already satisfied: fsspec in /usr/local/lib/python3.10/dist-packages (from huggingface-hub->timm==0.9.2->segmentation_models_pytorch) (2023.4.0)\n",
            "Requirement already satisfied: packaging>=20.9 in /usr/local/lib/python3.10/dist-packages (from huggingface-hub->timm==0.9.2->segmentation_models_pytorch) (23.1)\n",
            "Requirement already satisfied: six in /usr/local/lib/python3.10/dist-packages (from munch->pretrainedmodels==0.7.4->segmentation_models_pytorch) (1.16.0)\n",
            "Requirement already satisfied: urllib3<1.27,>=1.21.1 in /usr/local/lib/python3.10/dist-packages (from requests->torchvision>=0.5.0->segmentation_models_pytorch) (1.26.15)\n",
            "Requirement already satisfied: certifi>=2017.4.17 in /usr/local/lib/python3.10/dist-packages (from requests->torchvision>=0.5.0->segmentation_models_pytorch) (2022.12.7)\n",
            "Requirement already satisfied: charset-normalizer~=2.0.0 in /usr/local/lib/python3.10/dist-packages (from requests->torchvision>=0.5.0->segmentation_models_pytorch) (2.0.12)\n",
            "Requirement already satisfied: idna<4,>=2.5 in /usr/local/lib/python3.10/dist-packages (from requests->torchvision>=0.5.0->segmentation_models_pytorch) (3.4)\n",
            "Requirement already satisfied: MarkupSafe>=2.0 in /usr/local/lib/python3.10/dist-packages (from jinja2->torch->efficientnet-pytorch==0.7.1->segmentation_models_pytorch) (2.1.2)\n",
            "Requirement already satisfied: mpmath>=0.19 in /usr/local/lib/python3.10/dist-packages (from sympy->torch->efficientnet-pytorch==0.7.1->segmentation_models_pytorch) (1.3.0)\n",
            "Building wheels for collected packages: efficientnet-pytorch, pretrainedmodels\n",
            "  Building wheel for efficientnet-pytorch (setup.py) ... \u001b[?25l\u001b[?25hdone\n",
            "  Created wheel for efficientnet-pytorch: filename=efficientnet_pytorch-0.7.1-py3-none-any.whl size=16427 sha256=11b6b3031c0a0a0ef94527f090f66c284a6a2738d89b5977180c6f611ebb2b6d\n",
            "  Stored in directory: /root/.cache/pip/wheels/03/3f/e9/911b1bc46869644912bda90a56bcf7b960f20b5187feea3baf\n",
            "  Building wheel for pretrainedmodels (setup.py) ... \u001b[?25l\u001b[?25hdone\n",
            "  Created wheel for pretrainedmodels: filename=pretrainedmodels-0.7.4-py3-none-any.whl size=60945 sha256=8fe8bac6695ba257f3663412b7216ae67200e78543cdd4f94f45fac817d6aa70\n",
            "  Stored in directory: /root/.cache/pip/wheels/35/cb/a5/8f534c60142835bfc889f9a482e4a67e0b817032d9c6883b64\n",
            "Successfully built efficientnet-pytorch pretrainedmodels\n",
            "Installing collected packages: safetensors, munch, huggingface-hub, timm, pretrainedmodels, efficientnet-pytorch, segmentation_models_pytorch\n",
            "Successfully installed efficientnet-pytorch-0.7.1 huggingface-hub-0.15.1 munch-3.0.0 pretrainedmodels-0.7.4 safetensors-0.3.1 segmentation_models_pytorch-0.3.3 timm-0.9.2\n",
            "Looking in indexes: https://pypi.org/simple, https://us-python.pkg.dev/colab-wheels/public/simple/\n",
            "Collecting torchmetrics\n",
            "  Downloading torchmetrics-0.11.4-py3-none-any.whl (519 kB)\n",
            "\u001b[2K     \u001b[90m━━━━━━━━━━━━━━━━━━━━━━━━━━━━━━━━━━━━━━\u001b[0m \u001b[32m519.2/519.2 kB\u001b[0m \u001b[31m11.3 MB/s\u001b[0m eta \u001b[36m0:00:00\u001b[0m\n",
            "\u001b[?25hRequirement already satisfied: numpy>=1.17.2 in /usr/local/lib/python3.10/dist-packages (from torchmetrics) (1.22.4)\n",
            "Requirement already satisfied: torch>=1.8.1 in /usr/local/lib/python3.10/dist-packages (from torchmetrics) (2.0.1+cu118)\n",
            "Requirement already satisfied: packaging in /usr/local/lib/python3.10/dist-packages (from torchmetrics) (23.1)\n",
            "Requirement already satisfied: filelock in /usr/local/lib/python3.10/dist-packages (from torch>=1.8.1->torchmetrics) (3.12.0)\n",
            "Requirement already satisfied: typing-extensions in /usr/local/lib/python3.10/dist-packages (from torch>=1.8.1->torchmetrics) (4.5.0)\n",
            "Requirement already satisfied: sympy in /usr/local/lib/python3.10/dist-packages (from torch>=1.8.1->torchmetrics) (1.11.1)\n",
            "Requirement already satisfied: networkx in /usr/local/lib/python3.10/dist-packages (from torch>=1.8.1->torchmetrics) (3.1)\n",
            "Requirement already satisfied: jinja2 in /usr/local/lib/python3.10/dist-packages (from torch>=1.8.1->torchmetrics) (3.1.2)\n",
            "Requirement already satisfied: triton==2.0.0 in /usr/local/lib/python3.10/dist-packages (from torch>=1.8.1->torchmetrics) (2.0.0)\n",
            "Requirement already satisfied: cmake in /usr/local/lib/python3.10/dist-packages (from triton==2.0.0->torch>=1.8.1->torchmetrics) (3.25.2)\n",
            "Requirement already satisfied: lit in /usr/local/lib/python3.10/dist-packages (from triton==2.0.0->torch>=1.8.1->torchmetrics) (16.0.5)\n",
            "Requirement already satisfied: MarkupSafe>=2.0 in /usr/local/lib/python3.10/dist-packages (from jinja2->torch>=1.8.1->torchmetrics) (2.1.2)\n",
            "Requirement already satisfied: mpmath>=0.19 in /usr/local/lib/python3.10/dist-packages (from sympy->torch>=1.8.1->torchmetrics) (1.3.0)\n",
            "Installing collected packages: torchmetrics\n",
            "Successfully installed torchmetrics-0.11.4\n",
            "Looking in indexes: https://pypi.org/simple, https://us-python.pkg.dev/colab-wheels/public/simple/\n",
            "Requirement already satisfied: timm in /usr/local/lib/python3.10/dist-packages (0.9.2)\n",
            "Requirement already satisfied: torch>=1.7 in /usr/local/lib/python3.10/dist-packages (from timm) (2.0.1+cu118)\n",
            "Requirement already satisfied: torchvision in /usr/local/lib/python3.10/dist-packages (from timm) (0.15.2+cu118)\n",
            "Requirement already satisfied: pyyaml in /usr/local/lib/python3.10/dist-packages (from timm) (6.0)\n",
            "Requirement already satisfied: huggingface-hub in /usr/local/lib/python3.10/dist-packages (from timm) (0.15.1)\n",
            "Requirement already satisfied: safetensors in /usr/local/lib/python3.10/dist-packages (from timm) (0.3.1)\n",
            "Requirement already satisfied: filelock in /usr/local/lib/python3.10/dist-packages (from torch>=1.7->timm) (3.12.0)\n",
            "Requirement already satisfied: typing-extensions in /usr/local/lib/python3.10/dist-packages (from torch>=1.7->timm) (4.5.0)\n",
            "Requirement already satisfied: sympy in /usr/local/lib/python3.10/dist-packages (from torch>=1.7->timm) (1.11.1)\n",
            "Requirement already satisfied: networkx in /usr/local/lib/python3.10/dist-packages (from torch>=1.7->timm) (3.1)\n",
            "Requirement already satisfied: jinja2 in /usr/local/lib/python3.10/dist-packages (from torch>=1.7->timm) (3.1.2)\n",
            "Requirement already satisfied: triton==2.0.0 in /usr/local/lib/python3.10/dist-packages (from torch>=1.7->timm) (2.0.0)\n",
            "Requirement already satisfied: cmake in /usr/local/lib/python3.10/dist-packages (from triton==2.0.0->torch>=1.7->timm) (3.25.2)\n",
            "Requirement already satisfied: lit in /usr/local/lib/python3.10/dist-packages (from triton==2.0.0->torch>=1.7->timm) (16.0.5)\n",
            "Requirement already satisfied: fsspec in /usr/local/lib/python3.10/dist-packages (from huggingface-hub->timm) (2023.4.0)\n",
            "Requirement already satisfied: requests in /usr/local/lib/python3.10/dist-packages (from huggingface-hub->timm) (2.27.1)\n",
            "Requirement already satisfied: tqdm>=4.42.1 in /usr/local/lib/python3.10/dist-packages (from huggingface-hub->timm) (4.65.0)\n",
            "Requirement already satisfied: packaging>=20.9 in /usr/local/lib/python3.10/dist-packages (from huggingface-hub->timm) (23.1)\n",
            "Requirement already satisfied: numpy in /usr/local/lib/python3.10/dist-packages (from torchvision->timm) (1.22.4)\n",
            "Requirement already satisfied: pillow!=8.3.*,>=5.3.0 in /usr/local/lib/python3.10/dist-packages (from torchvision->timm) (8.4.0)\n",
            "Requirement already satisfied: MarkupSafe>=2.0 in /usr/local/lib/python3.10/dist-packages (from jinja2->torch>=1.7->timm) (2.1.2)\n",
            "Requirement already satisfied: urllib3<1.27,>=1.21.1 in /usr/local/lib/python3.10/dist-packages (from requests->huggingface-hub->timm) (1.26.15)\n",
            "Requirement already satisfied: certifi>=2017.4.17 in /usr/local/lib/python3.10/dist-packages (from requests->huggingface-hub->timm) (2022.12.7)\n",
            "Requirement already satisfied: charset-normalizer~=2.0.0 in /usr/local/lib/python3.10/dist-packages (from requests->huggingface-hub->timm) (2.0.12)\n",
            "Requirement already satisfied: idna<4,>=2.5 in /usr/local/lib/python3.10/dist-packages (from requests->huggingface-hub->timm) (3.4)\n",
            "Requirement already satisfied: mpmath>=0.19 in /usr/local/lib/python3.10/dist-packages (from sympy->torch>=1.7->timm) (1.3.0)\n"
          ]
        }
      ],
      "source": [
        "!pip install albumentations\n",
        "!pip install segmentation_models_pytorch\n",
        "!pip install torchmetrics\n",
        "!pip install timm # pytorch image model "
      ]
    },
    {
      "cell_type": "code",
      "execution_count": 3,
      "id": "557d8d83",
      "metadata": {
        "execution": {
          "iopub.execute_input": "2023-06-06T17:16:26.735845Z",
          "iopub.status.busy": "2023-06-06T17:16:26.735525Z",
          "iopub.status.idle": "2023-06-06T17:16:43.146188Z",
          "shell.execute_reply": "2023-06-06T17:16:43.145225Z"
        },
        "id": "557d8d83",
        "papermill": {
          "duration": 16.424716,
          "end_time": "2023-06-06T17:16:43.148686",
          "exception": false,
          "start_time": "2023-06-06T17:16:26.723970",
          "status": "completed"
        },
        "tags": []
      },
      "outputs": [],
      "source": [
        "import numpy as np\n",
        "import cv2 as cv\n",
        "import matplotlib.pyplot as plt\n",
        "import os \n",
        "import torch\n",
        "import segmentation_models_pytorch as smp # \n",
        "import torchmetrics\n",
        "import albumentations as A # Augmentation \n",
        "import random\n",
        "import timm\n",
        "\n",
        "from albumentations.pytorch import ToTensorV2\n",
        "from torchmetrics import Dice, JaccardIndex # Dice, IoU\n",
        "from tqdm import tqdm\n",
        "from torch import nn\n",
        "from torch.nn import functional as F\n",
        "from torch.utils.data import Dataset, DataLoader, SubsetRandomSampler\n",
        "from glob import glob\n",
        "from torchvision.datasets import VOCSegmentation\n"
      ]
    },
    {
      "cell_type": "markdown",
      "id": "e2058923",
      "metadata": {
        "id": "e2058923",
        "papermill": {
          "duration": 0.009718,
          "end_time": "2023-06-06T17:16:43.168896",
          "exception": false,
          "start_time": "2023-06-06T17:16:43.159178",
          "status": "completed"
        },
        "tags": []
      },
      "source": [
        "# VOC dataset"
      ]
    },
    {
      "cell_type": "code",
      "execution_count": 4,
      "id": "c8ebb2ee",
      "metadata": {
        "execution": {
          "iopub.execute_input": "2023-06-06T17:16:43.190907Z",
          "iopub.status.busy": "2023-06-06T17:16:43.190581Z",
          "iopub.status.idle": "2023-06-06T17:16:43.207708Z",
          "shell.execute_reply": "2023-06-06T17:16:43.206867Z"
        },
        "id": "c8ebb2ee",
        "papermill": {
          "duration": 0.03067,
          "end_time": "2023-06-06T17:16:43.209763",
          "exception": false,
          "start_time": "2023-06-06T17:16:43.179093",
          "status": "completed"
        },
        "tags": []
      },
      "outputs": [],
      "source": [
        "#  source: https://albumentations.ai/docs/autoalbument/examples/pascal_voc/\n",
        "\n",
        "cv.setNumThreads(0) # Câu lệnh này được sử dụng để thiết lập số luồng xử lý đa luồng (multi-threading) mà OpenCV sẽ sử dụng. \n",
        "cv.ocl.setUseOpenCL(False)\n",
        "\n",
        "VOC_CLASSES = [\n",
        "    \"background\",\n",
        "    \"aeroplane\",\n",
        "    \"bicycle\",\n",
        "    \"bird\",\n",
        "    \"boat\",\n",
        "    \"bottle\",\n",
        "    \"bus\",\n",
        "    \"car\",\n",
        "    \"cat\",\n",
        "    \"chair\",\n",
        "    \"cow\",\n",
        "    \"diningtable\",\n",
        "    \"dog\",\n",
        "    \"horse\",\n",
        "    \"motorbike\",\n",
        "    \"person\",\n",
        "    \"potted plant\",\n",
        "    \"sheep\",\n",
        "    \"sofa\",\n",
        "    \"train\",\n",
        "    \"tv/monitor\",\n",
        "]\n",
        "\n",
        "\n",
        "VOC_COLORMAP = [\n",
        "    [0, 0, 0],\n",
        "    [128, 0, 0],\n",
        "    [0, 128, 0],\n",
        "    [128, 128, 0],\n",
        "    [0, 0, 128],\n",
        "    [128, 0, 128],\n",
        "    [0, 128, 128],\n",
        "    [128, 128, 128],\n",
        "    [64, 0, 0],\n",
        "    [192, 0, 0],\n",
        "    [64, 128, 0],\n",
        "    [192, 128, 0],\n",
        "    [64, 0, 128],\n",
        "    [192, 0, 128],\n",
        "    [64, 128, 128],\n",
        "    [192, 128, 128],\n",
        "    [0, 64, 0],\n",
        "    [128, 64, 0],\n",
        "    [0, 192, 0],\n",
        "    [128, 192, 0],\n",
        "    [0, 64, 128],\n",
        "]\n",
        "\n",
        "class PascalVOCSearchDataset(VOCSegmentation):\n",
        "    def __init__(self, root=\"~/data/pascal_voc\", image_set=\"train\", download=True, transform=None):\n",
        "        super().__init__(root=root, image_set=image_set, download=download, transform=transform)\n",
        "\n",
        "    @staticmethod\n",
        "    def _convert_to_segmentation_mask(mask):\n",
        "        # This function converts a mask from the Pascal VOC format to the format required by AutoAlbument.\n",
        "        #\n",
        "        # Pascal VOC uses an RGB image to encode the segmentation mask for that image. RGB values of a pixel\n",
        "        # encode the pixel's class.\n",
        "        #\n",
        "        # AutoAlbument requires a segmentation mask to be a NumPy array with the shape [height, width, num_classes].\n",
        "        # Each channel in this mask should encode values for a single class. Pixel in a mask channel should have\n",
        "        # a value of 1.0 if the pixel of the image belongs to this class and 0.0 otherwise.\n",
        "        height, width = mask.shape[:2]\n",
        "        segmentation_mask = np.zeros((height, width, len(VOC_COLORMAP)), dtype=np.float32)\n",
        "        for label_index, label in enumerate(VOC_COLORMAP):\n",
        "            segmentation_mask[:, :, label_index] = np.all(mask == label, axis=-1).astype(float)\n",
        "        return segmentation_mask\n",
        "\n",
        "    def __getitem__(self, index):\n",
        "        image = cv.imread(self.images[index])\n",
        "        image = cv.cvtColor(image, cv.COLOR_BGR2RGB)\n",
        "        mask = cv.imread(self.masks[index])\n",
        "        mask = cv.cvtColor(mask, cv.COLOR_BGR2RGB)\n",
        "        mask = self._convert_to_segmentation_mask(mask)\n",
        "        if self.transform is not None:\n",
        "            transformed = self.transform(image=image, mask=mask)\n",
        "            image = transformed[\"image\"]\n",
        "            mask = transformed[\"mask\"]\n",
        "            return image, mask.argmax(dim = 2).squeeze()\n",
        "        return image, mask.argmax(axis = 2).squeeze()"
      ]
    },
    {
      "cell_type": "markdown",
      "id": "e6fa1c05",
      "metadata": {
        "id": "e6fa1c05",
        "papermill": {
          "duration": 0.009637,
          "end_time": "2023-06-06T17:16:43.229316",
          "exception": false,
          "start_time": "2023-06-06T17:16:43.219679",
          "status": "completed"
        },
        "tags": []
      },
      "source": [
        "# ResNet + UNet Model"
      ]
    },
    {
      "cell_type": "code",
      "execution_count": 5,
      "id": "a33ee670",
      "metadata": {
        "execution": {
          "iopub.execute_input": "2023-06-06T17:16:43.250745Z",
          "iopub.status.busy": "2023-06-06T17:16:43.250434Z",
          "iopub.status.idle": "2023-06-06T17:16:43.261940Z",
          "shell.execute_reply": "2023-06-06T17:16:43.260933Z"
        },
        "id": "a33ee670",
        "papermill": {
          "duration": 0.024837,
          "end_time": "2023-06-06T17:16:43.264230",
          "exception": false,
          "start_time": "2023-06-06T17:16:43.239393",
          "status": "completed"
        },
        "tags": []
      },
      "outputs": [],
      "source": [
        "def unet_block(in_channels, out_channels):\n",
        "    return nn.Sequential(\n",
        "            nn.Conv2d(in_channels, out_channels, kernel_size = 3, stride = 1, padding = 1),\n",
        "            nn.ReLU(),\n",
        "            nn.Conv2d(out_channels, out_channels, kernel_size = 3, stride = 1, padding = 1),\n",
        "            nn.ReLU()        \n",
        "        )\n",
        "\n",
        "class UNet(nn.Module):\n",
        "    def __init__(self, num_classes):\n",
        "        super().__init__()\n",
        "        self.down_sample = nn.MaxPool2d(kernel_size = 2)\n",
        "        self.up_sample = nn.Upsample(scale_factor = 2, mode = 'bilinear')\n",
        "        \n",
        "        # source: https://huggingface.co/docs/timm/feature_extraction#multiscale-feature-maps-feature-pyramid\n",
        "        self.backbone = timm.create_model(model_name = 'resnet101', pretrained = True, features_only = True)\n",
        "\n",
        "        self.block_up1 = unet_block(2048 + 1024, 1024)\n",
        "        self.block_up2 = unet_block(1024 + 512, 512)\n",
        "        self.block_up3 = unet_block(512 + 256, 256)\n",
        "        self.block_up4 = unet_block(256 + 64, 64)\n",
        "\n",
        "        self.out = nn.Conv2d(64, num_classes, kernel_size = 1, stride = 1)\n",
        "\n",
        "    def forward(self, x):\n",
        "        # x: batch_size, channels, height, width \n",
        "        x1, x2, x3, x4, x5 = self.backbone(x)\n",
        "\n",
        "        x = self.up_sample(x5)\n",
        "        x = torch.cat(\n",
        "            [x, x4], dim = 1\n",
        "        )\n",
        "        x = self.block_up1(x)\n",
        "\n",
        "        x = self.up_sample(x)\n",
        "        x = torch.cat(\n",
        "            [x, x3], dim = 1\n",
        "        )\n",
        "        x = self.block_up2(x)\n",
        "\n",
        "        x = self.up_sample(x)\n",
        "        x = torch.cat(\n",
        "            [x, x2], dim = 1\n",
        "        )\n",
        "        x = self.block_up3(x)\n",
        "\n",
        "        x = self.up_sample(x)\n",
        "        x = torch.cat(\n",
        "            [x, x1], dim = 1\n",
        "        )\n",
        "        x = self.block_up4(x)\n",
        "\n",
        "        x = self.up_sample(x)\n",
        "        x = self.out(x)\n",
        "\n",
        "        return x"
      ]
    },
    {
      "cell_type": "markdown",
      "id": "81736abd",
      "metadata": {
        "id": "81736abd",
        "papermill": {
          "duration": 0.009581,
          "end_time": "2023-06-06T17:16:43.283610",
          "exception": false,
          "start_time": "2023-06-06T17:16:43.274029",
          "status": "completed"
        },
        "tags": []
      },
      "source": [
        "# Split DataLoader"
      ]
    },
    {
      "cell_type": "code",
      "execution_count": 6,
      "id": "4365ab0c",
      "metadata": {
        "execution": {
          "iopub.execute_input": "2023-06-06T17:16:43.305511Z",
          "iopub.status.busy": "2023-06-06T17:16:43.305223Z",
          "iopub.status.idle": "2023-06-06T17:16:43.313442Z",
          "shell.execute_reply": "2023-06-06T17:16:43.312654Z"
        },
        "id": "4365ab0c",
        "papermill": {
          "duration": 0.021955,
          "end_time": "2023-06-06T17:16:43.315361",
          "exception": false,
          "start_time": "2023-06-06T17:16:43.293406",
          "status": "completed"
        },
        "tags": []
      },
      "outputs": [],
      "source": [
        "def split_dataloader(train_data, validation_split = 0.2):\n",
        "    # Chia DataLoader thành phần train và test\n",
        "    train_ratio = 1 - validation_split  # Tỷ lệ phần train (80%)\n",
        "    train_size = int(train_ratio * len(train_data.dataset))  # Số lượng mẫu dùng cho train\n",
        "\n",
        "    indices = list(range(len(train_data.dataset)))  # Danh sách các chỉ số của dataset\n",
        "    train_indices = indices[:train_size]  # Chỉ số của mẫu dùng cho train\n",
        "    val_indices = indices[train_size:]  # Chỉ số của mẫu dùng cho test\n",
        "\n",
        "    # lấy dữ liệu từ dataloader\n",
        "    dataset = train_data.dataset\n",
        "    batch_size = train_data.batch_size\n",
        "    num_workers = train_data.num_workers\n",
        "    \n",
        "    # Tạo ra các SubsetRandomSampler để chọn một phần dữ liệu cho train và test\n",
        "    train_sampler = SubsetRandomSampler(train_indices)\n",
        "    val_sampler = SubsetRandomSampler(val_indices)\n",
        "\n",
        "    # Tạo DataLoader mới từ SubsetRandomSampler\n",
        "    train_data = DataLoader(dataset, batch_size = batch_size, sampler = train_sampler, num_workers = num_workers, drop_last = True)\n",
        "    val_data = DataLoader(dataset, batch_size = batch_size, sampler = val_sampler, num_workers = num_workers, drop_last = True)\n",
        "    \n",
        "    return train_data, val_data\n"
      ]
    },
    {
      "cell_type": "markdown",
      "id": "aea1fe4e",
      "metadata": {
        "id": "aea1fe4e",
        "papermill": {
          "duration": 0.009641,
          "end_time": "2023-06-06T17:16:43.334954",
          "exception": false,
          "start_time": "2023-06-06T17:16:43.325313",
          "status": "completed"
        },
        "tags": []
      },
      "source": [
        "# Evaluate function"
      ]
    },
    {
      "cell_type": "code",
      "execution_count": 7,
      "id": "4ab916c4",
      "metadata": {
        "execution": {
          "iopub.execute_input": "2023-06-06T17:16:43.355693Z",
          "iopub.status.busy": "2023-06-06T17:16:43.355425Z",
          "iopub.status.idle": "2023-06-06T17:16:43.366349Z",
          "shell.execute_reply": "2023-06-06T17:16:43.365475Z"
        },
        "id": "4ab916c4",
        "papermill": {
          "duration": 0.02361,
          "end_time": "2023-06-06T17:16:43.368358",
          "exception": false,
          "start_time": "2023-06-06T17:16:43.344748",
          "status": "completed"
        },
        "tags": []
      },
      "outputs": [],
      "source": [
        "def evaluate(model, val_data, loss_fn, dice_fn, iou_fn, device = 'cpu', weights = None, verbose = 0):\n",
        "    # set device\n",
        "    if isinstance(device, str):\n",
        "        if (device == 'cuda' or device == 'gpu') and torch.cuda.is_available():\n",
        "            device = torch.device(device)\n",
        "        else:\n",
        "            device = torch.device('cpu')\n",
        "\n",
        "    if weights:\n",
        "        model.load_state_dict(torch.load(weights))\n",
        "        print('Weights loaded successfully from path:', weights)\n",
        "        print('====================================================')\n",
        "\n",
        "    model = model.to(device)\n",
        "    dice_fn = dice_fn.to(device)    \n",
        "    iou_fn = iou_fn.to(device)\n",
        "    with torch.no_grad():\n",
        "        model.eval()\n",
        "        accuracy = 0\n",
        "        dice_score = 0\n",
        "        iou_score = 0\n",
        "        running_loss = 0.\n",
        "        val_total = len(val_data) * val_data.batch_size\n",
        "        if verbose == 1:\n",
        "            val_data = tqdm(val_data, desc = 'Evaluate: ', ncols = 100)\n",
        "        for x, y in val_data:\n",
        "            x, y = x.to(device), y.to(device)\n",
        "            y_hat = model(x)\n",
        "            loss = loss_fn(y_hat, y.long())\n",
        "            \n",
        "            running_loss += loss.item()\n",
        "\n",
        "            # accuracy && iou && dice\n",
        "            y_hat = torch.argmax(y_hat, dim = 1).squeeze() # [batch, channels, h, w] -> [batch, h, w]\n",
        "            accuracy  += torch.sum(y == y_hat) / y_hat.flatten(start_dim = 1).shape[1]\n",
        "            dice_score += dice_fn(y_hat, y.long())\n",
        "            iou_score += iou_fn(y_hat, y.long())\n",
        "\n",
        "        val_loss = running_loss / len(val_data)\n",
        "        val_accuracy = accuracy / val_total\n",
        "        val_dice_score = dice_score / len(val_data)\n",
        "        val_iou_score = iou_score / len(val_data) \n",
        "        return val_loss, val_accuracy, val_dice_score, val_iou_score\n"
      ]
    },
    {
      "cell_type": "markdown",
      "id": "c56e0492",
      "metadata": {
        "id": "c56e0492",
        "papermill": {
          "duration": 0.00968,
          "end_time": "2023-06-06T17:16:43.388090",
          "exception": false,
          "start_time": "2023-06-06T17:16:43.378410",
          "status": "completed"
        },
        "tags": []
      },
      "source": [
        "# Train function"
      ]
    },
    {
      "cell_type": "code",
      "execution_count": 8,
      "id": "b94413f9",
      "metadata": {
        "execution": {
          "iopub.execute_input": "2023-06-06T17:16:43.409214Z",
          "iopub.status.busy": "2023-06-06T17:16:43.408907Z",
          "iopub.status.idle": "2023-06-06T17:16:43.426523Z",
          "shell.execute_reply": "2023-06-06T17:16:43.425107Z"
        },
        "id": "b94413f9",
        "papermill": {
          "duration": 0.030897,
          "end_time": "2023-06-06T17:16:43.428680",
          "exception": false,
          "start_time": "2023-06-06T17:16:43.397783",
          "status": "completed"
        },
        "tags": []
      },
      "outputs": [],
      "source": [
        "def train(model, train_data, loss_fn, optimizer, dice_fn, iou_fn, device = 'cpu', weights = None, num_epochs = 50, steps_per_epoch = None,\n",
        "          validation_data = None, validation_split = None, save_last_weights = None):\n",
        "    \n",
        "    # đặt validation_data and validation_split không đồng thời khác None\n",
        "    assert not(validation_data is not None and validation_split is not None)\n",
        "\n",
        "    if isinstance(device, str):\n",
        "        if (device == 'cuda' or device == 'gpu') and torch.cuda.is_available():\n",
        "            device = torch.device(device)\n",
        "        else:\n",
        "            device = torch.device('cpu')\n",
        "\n",
        "    if weights:\n",
        "        model.load_state_dict(torch.load(weights))\n",
        "        print('Weights loaded successfully from path:', weights)\n",
        "        print('====================================================')\n",
        "\n",
        "    # chia dữ liệu thành 2 tập train và val    \n",
        "    if validation_data is not None:\n",
        "        val_data = validation_data\n",
        "    elif validation_split is not None: \n",
        "        train_data, val_data = split_dataloader(train_data, validation_split)\n",
        "    else: \n",
        "        val_data = None \n",
        "\n",
        "    if steps_per_epoch is None:\n",
        "        steps_per_epoch = len(train_data)\n",
        "\n",
        "    # \n",
        "    num_steps = len(train_data)\n",
        "    iterator = iter(train_data)\n",
        "    count_steps = 1\n",
        "    batch_size = train_data.batch_size\n",
        "\n",
        "    # add model to device\n",
        "    model = model.to(device)\n",
        "    dice_fn = dice_fn.to(device)\n",
        "    iou_fn = iou_fn.to(device)\n",
        "\n",
        "    # history\n",
        "    history = {\n",
        "        'train_loss': [],\n",
        "        'train_acc': [],\n",
        "        'val_acc': [],\n",
        "        'val_loss': []\n",
        "    }\n",
        "\n",
        "    for epoch in range(1, num_epochs + 1):\n",
        "        accuracy = 0\n",
        "        dice_score = 0\n",
        "        iou_score = 0\n",
        "        running_loss = 0.\n",
        "\n",
        "        train_total = steps_per_epoch * train_data.batch_size\n",
        "\n",
        "        model.train()\n",
        "        for step in tqdm(range(steps_per_epoch), desc = f'Epoch {epoch}/{num_epochs}: ', ncols = 100):\n",
        "            x, y = next(iterator)\n",
        "            x, y = x.to(device), y.to(device)\n",
        "\n",
        "            y_hat = model(x)\n",
        "            loss = loss_fn(y_hat, y.long())\n",
        "\n",
        "            # xóa gradient lần tính trước đó\n",
        "            optimizer.zero_grad()\n",
        "\n",
        "            loss.backward()\n",
        "\n",
        "            optimizer.step()\n",
        "\n",
        "            running_loss += loss.item()\n",
        "\n",
        "            # accuracy && iou && dice\n",
        "            y_hat = torch.argmax(y_hat, dim = 1).squeeze()\n",
        "            accuracy  += torch.sum(y == y_hat) / y_hat.flatten(start_dim = 1).shape[1]\n",
        "            dice_score += dice_fn(y_hat, y.long())\n",
        "            iou_score += iou_fn(y_hat, y.long())\n",
        "\n",
        "            # nếu nó duyệt hết qua tập dữ liệu thì cho nó lặp lại 1 lần nữa\n",
        "            if count_steps == num_steps:\n",
        "                iterator = iter(train_data)\n",
        "                count_steps = 0\n",
        "            count_steps += 1\n",
        "        train_loss = running_loss / steps_per_epoch\n",
        "        train_accuracy = accuracy / train_total\n",
        "        train_dice_score = dice_score / steps_per_epoch\n",
        "        train_iou_score = iou_score / steps_per_epoch \n",
        "\n",
        "        history['train_acc'].append(train_accuracy)\n",
        "        history['train_loss'].append(train_loss)\n",
        "\n",
        "        print(f'Epoch: {epoch}, train_accuracy: {train_accuracy: .2f}, loss: {train_loss: .3f}, train_iou_score: {train_iou_score: .2f}, train_dice_score: {train_dice_score: .2f}')\n",
        "        if val_data:\n",
        "            val_loss, val_accuracy, val_dice_score, val_iou_score = evaluate(model, val_data, loss_fn, dice_fn, iou_fn, device = device)\n",
        "            history['val_acc'].append(val_accuracy)\n",
        "            history['val_loss'].append(val_loss)\n",
        "            \n",
        "            print(f'Epoch: {epoch}, val_accuracy: {val_accuracy: .2f}, val_loss: {val_loss: .3f}, val_iou_score: {val_iou_score: .2f}, val_dice_score: {val_dice_score: .2f}')\n",
        "\n",
        "\n",
        "    if save_last_weights:  \n",
        "        torch.save(model.state_dict(), save_last_weights)\n",
        "        print(f'Saved successfully last weights to:', save_last_weights)\n",
        "    return model, history"
      ]
    },
    {
      "cell_type": "markdown",
      "id": "1239e27f",
      "metadata": {
        "id": "1239e27f",
        "papermill": {
          "duration": 0.009674,
          "end_time": "2023-06-06T17:16:43.448149",
          "exception": false,
          "start_time": "2023-06-06T17:16:43.438475",
          "status": "completed"
        },
        "tags": []
      },
      "source": [
        "# Predict class"
      ]
    },
    {
      "cell_type": "code",
      "execution_count": 22,
      "id": "8b6b7e45",
      "metadata": {
        "execution": {
          "iopub.execute_input": "2023-06-06T17:16:43.469110Z",
          "iopub.status.busy": "2023-06-06T17:16:43.468800Z",
          "iopub.status.idle": "2023-06-06T17:16:43.480578Z",
          "shell.execute_reply": "2023-06-06T17:16:43.479707Z"
        },
        "id": "8b6b7e45",
        "papermill": {
          "duration": 0.024574,
          "end_time": "2023-06-06T17:16:43.482480",
          "exception": false,
          "start_time": "2023-06-06T17:16:43.457906",
          "status": "completed"
        },
        "tags": []
      },
      "outputs": [],
      "source": [
        "class Prediction:\n",
        "    def __init__(self, model, weights = None, img_size = 256, device = 'cpu'):\n",
        "        \n",
        "        # set device\n",
        "        if isinstance(device, str):\n",
        "            if (device == 'gpu' or device == 'cuda') and torch.cuda.is_available():\n",
        "                device = torch.device('cuda')\n",
        "            else: \n",
        "                device = torch.device('cpu')\n",
        "        self.device = device\n",
        "        self.model = model.to(device)\n",
        "        if weights:\n",
        "            self.model.load_state_dict(torch.load(weights))\n",
        "        \n",
        "        if isinstance(img_size, int):\n",
        "            img_size = (img_size,img_size)\n",
        "            \n",
        "        self.img_size = img_size\n",
        "    \n",
        "    def _transform(self, img):\n",
        "        predict_transform = A.Compose(\n",
        "            [\n",
        "                A.Resize(height = self.img_size[0], width = self.img_size[1]),\n",
        "                A.Normalize(),\n",
        "                A.pytorch.ToTensorV2()\n",
        "            ]\n",
        "        )\n",
        "\n",
        "        transformed_img = predict_transform(image = img)\n",
        "\n",
        "        return transformed_img['image']\n",
        "\n",
        "    def _inverse_transform(self, img, img_size):\n",
        "        if torch.is_tensor(img):\n",
        "            img = img.numpy()\n",
        "        img = img.astype(np.uint8)\n",
        "        img = cv.resize(img, (img_size[1], img_size[0]))\n",
        "        return img\n",
        "\n",
        "    def predict(self, img, transform = True):\n",
        "        # requires a numpy array image\n",
        "        origin_shape = img.shape[:2]\n",
        "\n",
        "        self.model.eval()\n",
        "\n",
        "        # nếu ảnh chưa đi qua phép biến đổi để trở về với định dạng chuẩn của mạng thì sẽ được đi qua 1 lớp transform\n",
        "        if transform:\n",
        "            img = self._transform(img)\n",
        "        if len(img.shape) == 3:\n",
        "            img = img[None]\n",
        "        \n",
        "        img = img.to(self.device)\n",
        "\n",
        "        predicted_mask = self.model(img)\n",
        "        predicted_mask = predicted_mask.argmax(dim = 1).squeeze().cpu().numpy()\n",
        "        \n",
        "        predicted_mask = self._inverse_transform(predicted_mask, origin_shape)\n",
        "        return predicted_mask"
      ]
    },
    {
      "cell_type": "markdown",
      "id": "010f2347",
      "metadata": {
        "id": "010f2347"
      },
      "source": [
        "# Visualize function"
      ]
    },
    {
      "cell_type": "code",
      "execution_count": 10,
      "id": "4e416200",
      "metadata": {
        "id": "4e416200"
      },
      "outputs": [],
      "source": [
        "def visualize(img, groundtruth_mask, predicted_mask, color_map):\n",
        "    img = cv.cvtColor(img, cv.COLOR_BGR2RGB)\n",
        "\n",
        "    plt.figure(figsize = (10, 8))\n",
        "    plt.subplot(1,3,1)\n",
        "    img = cv.cvtColor(img, cv.COLOR_BGR2RGB)\n",
        "    plt.imshow(img)\n",
        "    plt.title('image')\n",
        "    rgb_groundtruth_mask = np.zeros((*groundtruth_mask.shape, 3), dtype = np.uint8)\n",
        "    rgb_predicted_mask = np.zeros((*predicted_mask.shape, 3), dtype = np.uint8)\n",
        "\n",
        "    for i, color in enumerate(color_map):\n",
        "        rgb_groundtruth_mask[groundtruth_mask == i] = np.array(color)\n",
        "        rgb_predicted_mask[predicted_mask == i] = np.array(color)\n",
        "\n",
        "    plt.subplot(1,3,2)\n",
        "\n",
        "    plt.imshow(rgb_groundtruth_mask)\n",
        "    plt.title('ground-truth mask')\n",
        "    \n",
        "    plt.subplot(1,3,3)\n",
        "    plt.imshow(rgb_predicted_mask)\n",
        "    plt.title('predicted mask')\n",
        "\n"
      ]
    },
    {
      "cell_type": "markdown",
      "id": "9376d1c7",
      "metadata": {
        "id": "9376d1c7",
        "papermill": {
          "duration": 0.00957,
          "end_time": "2023-06-06T17:16:43.501962",
          "exception": false,
          "start_time": "2023-06-06T17:16:43.492392",
          "status": "completed"
        },
        "tags": []
      },
      "source": [
        "# Train model"
      ]
    },
    {
      "cell_type": "code",
      "execution_count": 17,
      "id": "7792a7f3",
      "metadata": {
        "execution": {
          "iopub.execute_input": "2023-06-06T17:16:43.523095Z",
          "iopub.status.busy": "2023-06-06T17:16:43.522814Z",
          "iopub.status.idle": "2023-06-06T17:16:43.528479Z",
          "shell.execute_reply": "2023-06-06T17:16:43.527692Z"
        },
        "id": "7792a7f3",
        "papermill": {
          "duration": 0.018793,
          "end_time": "2023-06-06T17:16:43.530458",
          "exception": false,
          "start_time": "2023-06-06T17:16:43.511665",
          "status": "completed"
        },
        "tags": []
      },
      "outputs": [],
      "source": [
        "image_size = (256, 256)\n",
        "num_classes = 21\n",
        "num_workers = os.cpu_count()\n",
        "batch_size = 16\n",
        "device = 'cuda'\n",
        "save_weights = '/content/drive/MyDrive/ColabNotebooks/Semantic_Segmentation/ResUnet_weights.pt'\n",
        "weights = '/content/drive/MyDrive/ColabNotebooks/Semantic_Segmentation/ResUnet_weights.pt'"
      ]
    },
    {
      "cell_type": "code",
      "execution_count": 12,
      "id": "405b9d11",
      "metadata": {
        "execution": {
          "iopub.execute_input": "2023-06-06T17:16:43.572049Z",
          "iopub.status.busy": "2023-06-06T17:16:43.571723Z",
          "iopub.status.idle": "2023-06-06T17:18:30.127429Z",
          "shell.execute_reply": "2023-06-06T17:18:30.125985Z"
        },
        "id": "405b9d11",
        "papermill": {
          "duration": 106.571052,
          "end_time": "2023-06-06T17:18:30.131188",
          "exception": false,
          "start_time": "2023-06-06T17:16:43.560136",
          "status": "completed"
        },
        "tags": [],
        "outputId": "032040b9-c25c-4c67-9909-f061f61a59d3",
        "colab": {
          "base_uri": "https://localhost:8080/"
        }
      },
      "outputs": [
        {
          "output_type": "stream",
          "name": "stderr",
          "text": [
            "/usr/local/lib/python3.10/dist-packages/albumentations/augmentations/dropout/cutout.py:50: FutureWarning: Cutout has been deprecated. Please use CoarseDropout\n",
            "  warnings.warn(\n"
          ]
        },
        {
          "output_type": "stream",
          "name": "stdout",
          "text": [
            "Downloading http://host.robots.ox.ac.uk/pascal/VOC/voc2012/VOCtrainval_11-May-2012.tar to /root/data/pascal_voc/VOCtrainval_11-May-2012.tar\n"
          ]
        },
        {
          "output_type": "stream",
          "name": "stderr",
          "text": [
            "100%|██████████| 1999639040/1999639040 [01:05<00:00, 30469008.23it/s]\n"
          ]
        },
        {
          "output_type": "stream",
          "name": "stdout",
          "text": [
            "Extracting /root/data/pascal_voc/VOCtrainval_11-May-2012.tar to /root/data/pascal_voc\n"
          ]
        }
      ],
      "source": [
        "train_transform = A.Compose(\n",
        "    [\n",
        "        A.Resize(height = image_size[0], width = image_size[1]),\n",
        "        A.HorizontalFlip(p = 0.3),\n",
        "        A.RandomBrightnessContrast(),\n",
        "        A.Blur(p = 0.2),\n",
        "        A.Sharpen(p = 0.2),\n",
        "        A.Cutout(num_holes = 5, max_h_size = 10, max_w_size = 10, fill_value = 0),\n",
        "        A.Normalize(),\n",
        "        A.pytorch.ToTensorV2() # require a numpy array format (h,w,c) and convert to a tensor array format (x,h,w)\n",
        "    ]\n",
        ")\n",
        "\n",
        "train_dataset = PascalVOCSearchDataset(image_set = 'train', download = True, transform = train_transform)\n",
        "trainloader = DataLoader(train_dataset, batch_size = batch_size, shuffle = True, num_workers = num_workers)\n"
      ]
    },
    {
      "cell_type": "code",
      "execution_count": 18,
      "id": "4449d77d",
      "metadata": {
        "execution": {
          "iopub.execute_input": "2023-06-06T17:18:30.361889Z",
          "iopub.status.busy": "2023-06-06T17:18:30.361397Z",
          "iopub.status.idle": "2023-06-06T17:18:38.823481Z",
          "shell.execute_reply": "2023-06-06T17:18:38.822497Z"
        },
        "id": "4449d77d",
        "papermill": {
          "duration": 8.580634,
          "end_time": "2023-06-06T17:18:38.826153",
          "exception": false,
          "start_time": "2023-06-06T17:18:30.245519",
          "status": "completed"
        },
        "tags": []
      },
      "outputs": [],
      "source": [
        "model = UNet(num_classes)\n",
        "\n",
        "## Loss and optimizer\n",
        "loss_fn = nn.CrossEntropyLoss()\n",
        "optimizer = torch.optim.Adam(model.parameters(), lr = 1e-4)\n",
        "\n",
        "## metrics\n",
        "dice_fn = Dice(average = 'macro', num_classes = num_classes, ignore_index = 0)\n",
        "iou_fn = JaccardIndex(average = 'macro', task = 'multiclass', num_classes = num_classes, ignore_index = 0)\n"
      ]
    },
    {
      "cell_type": "code",
      "execution_count": null,
      "id": "7b7868e0",
      "metadata": {
        "execution": {
          "iopub.execute_input": "2023-06-06T17:18:38.948116Z",
          "iopub.status.busy": "2023-06-06T17:18:38.947727Z",
          "iopub.status.idle": "2023-06-06T20:14:51.280231Z",
          "shell.execute_reply": "2023-06-06T20:14:51.279022Z"
        },
        "id": "7b7868e0",
        "outputId": "7e81a726-7983-4707-984d-126969c2a2b3",
        "papermill": {
          "duration": 10572.396381,
          "end_time": "2023-06-06T20:14:51.282916",
          "exception": false,
          "start_time": "2023-06-06T17:18:38.886535",
          "status": "completed"
        },
        "tags": []
      },
      "outputs": [
        {
          "name": "stderr",
          "output_type": "stream",
          "text": [
            "Epoch 1/50: 100%|█████████████████████████████████████████████████| 100/100 [03:29<00:00,  2.10s/it]\n"
          ]
        },
        {
          "name": "stdout",
          "output_type": "stream",
          "text": [
            "Epoch: 1, train_accuracy:  0.73, loss:  1.247, train_iou_score:  0.00, train_dice_score:  0.00\n"
          ]
        },
        {
          "name": "stderr",
          "output_type": "stream",
          "text": [
            "Epoch 2/50: 100%|█████████████████████████████████████████████████| 100/100 [03:32<00:00,  2.13s/it]\n"
          ]
        },
        {
          "name": "stdout",
          "output_type": "stream",
          "text": [
            "Epoch: 2, train_accuracy:  0.75, loss:  0.972, train_iou_score:  0.00, train_dice_score:  0.01\n"
          ]
        },
        {
          "name": "stderr",
          "output_type": "stream",
          "text": [
            "Epoch 3/50: 100%|█████████████████████████████████████████████████| 100/100 [03:35<00:00,  2.15s/it]\n"
          ]
        },
        {
          "name": "stdout",
          "output_type": "stream",
          "text": [
            "Epoch: 3, train_accuracy:  0.76, loss:  0.919, train_iou_score:  0.01, train_dice_score:  0.03\n"
          ]
        },
        {
          "name": "stderr",
          "output_type": "stream",
          "text": [
            "Epoch 4/50: 100%|█████████████████████████████████████████████████| 100/100 [03:29<00:00,  2.10s/it]\n"
          ]
        },
        {
          "name": "stdout",
          "output_type": "stream",
          "text": [
            "Epoch: 4, train_accuracy:  0.79, loss:  0.779, train_iou_score:  0.05, train_dice_score:  0.09\n"
          ]
        },
        {
          "name": "stderr",
          "output_type": "stream",
          "text": [
            "Epoch 5/50: 100%|█████████████████████████████████████████████████| 100/100 [03:32<00:00,  2.12s/it]\n"
          ]
        },
        {
          "name": "stdout",
          "output_type": "stream",
          "text": [
            "Epoch: 5, train_accuracy:  0.81, loss:  0.674, train_iou_score:  0.09, train_dice_score:  0.15\n"
          ]
        },
        {
          "name": "stderr",
          "output_type": "stream",
          "text": [
            "Epoch 6/50: 100%|█████████████████████████████████████████████████| 100/100 [03:29<00:00,  2.09s/it]\n"
          ]
        },
        {
          "name": "stdout",
          "output_type": "stream",
          "text": [
            "Epoch: 6, train_accuracy:  0.83, loss:  0.598, train_iou_score:  0.15, train_dice_score:  0.21\n"
          ]
        },
        {
          "name": "stderr",
          "output_type": "stream",
          "text": [
            "Epoch 7/50: 100%|█████████████████████████████████████████████████| 100/100 [03:31<00:00,  2.11s/it]\n"
          ]
        },
        {
          "name": "stdout",
          "output_type": "stream",
          "text": [
            "Epoch: 7, train_accuracy:  0.84, loss:  0.531, train_iou_score:  0.17, train_dice_score:  0.24\n"
          ]
        },
        {
          "name": "stderr",
          "output_type": "stream",
          "text": [
            "Epoch 8/50: 100%|█████████████████████████████████████████████████| 100/100 [03:31<00:00,  2.12s/it]\n"
          ]
        },
        {
          "name": "stdout",
          "output_type": "stream",
          "text": [
            "Epoch: 8, train_accuracy:  0.86, loss:  0.468, train_iou_score:  0.21, train_dice_score:  0.29\n"
          ]
        },
        {
          "name": "stderr",
          "output_type": "stream",
          "text": [
            "Epoch 9/50: 100%|█████████████████████████████████████████████████| 100/100 [03:29<00:00,  2.10s/it]\n"
          ]
        },
        {
          "name": "stdout",
          "output_type": "stream",
          "text": [
            "Epoch: 9, train_accuracy:  0.86, loss:  0.423, train_iou_score:  0.24, train_dice_score:  0.32\n"
          ]
        },
        {
          "name": "stderr",
          "output_type": "stream",
          "text": [
            "Epoch 10/50: 100%|████████████████████████████████████████████████| 100/100 [03:30<00:00,  2.10s/it]\n"
          ]
        },
        {
          "name": "stdout",
          "output_type": "stream",
          "text": [
            "Epoch: 10, train_accuracy:  0.88, loss:  0.369, train_iou_score:  0.29, train_dice_score:  0.38\n"
          ]
        },
        {
          "name": "stderr",
          "output_type": "stream",
          "text": [
            "Epoch 11/50: 100%|████████████████████████████████████████████████| 100/100 [03:29<00:00,  2.09s/it]\n"
          ]
        },
        {
          "name": "stdout",
          "output_type": "stream",
          "text": [
            "Epoch: 11, train_accuracy:  0.89, loss:  0.320, train_iou_score:  0.34, train_dice_score:  0.44\n"
          ]
        },
        {
          "name": "stderr",
          "output_type": "stream",
          "text": [
            "Epoch 12/50: 100%|████████████████████████████████████████████████| 100/100 [03:29<00:00,  2.10s/it]\n"
          ]
        },
        {
          "name": "stdout",
          "output_type": "stream",
          "text": [
            "Epoch: 12, train_accuracy:  0.89, loss:  0.308, train_iou_score:  0.34, train_dice_score:  0.45\n"
          ]
        },
        {
          "name": "stderr",
          "output_type": "stream",
          "text": [
            "Epoch 13/50: 100%|████████████████████████████████████████████████| 100/100 [03:30<00:00,  2.10s/it]\n"
          ]
        },
        {
          "name": "stdout",
          "output_type": "stream",
          "text": [
            "Epoch: 13, train_accuracy:  0.91, loss:  0.283, train_iou_score:  0.38, train_dice_score:  0.48\n"
          ]
        },
        {
          "name": "stderr",
          "output_type": "stream",
          "text": [
            "Epoch 14/50: 100%|████████████████████████████████████████████████| 100/100 [03:30<00:00,  2.10s/it]\n"
          ]
        },
        {
          "name": "stdout",
          "output_type": "stream",
          "text": [
            "Epoch: 14, train_accuracy:  0.91, loss:  0.266, train_iou_score:  0.39, train_dice_score:  0.50\n"
          ]
        },
        {
          "name": "stderr",
          "output_type": "stream",
          "text": [
            "Epoch 15/50: 100%|████████████████████████████████████████████████| 100/100 [03:30<00:00,  2.10s/it]\n"
          ]
        },
        {
          "name": "stdout",
          "output_type": "stream",
          "text": [
            "Epoch: 15, train_accuracy:  0.92, loss:  0.245, train_iou_score:  0.40, train_dice_score:  0.52\n"
          ]
        },
        {
          "name": "stderr",
          "output_type": "stream",
          "text": [
            "Epoch 16/50: 100%|████████████████████████████████████████████████| 100/100 [03:31<00:00,  2.11s/it]\n"
          ]
        },
        {
          "name": "stdout",
          "output_type": "stream",
          "text": [
            "Epoch: 16, train_accuracy:  0.92, loss:  0.221, train_iou_score:  0.43, train_dice_score:  0.57\n"
          ]
        },
        {
          "name": "stderr",
          "output_type": "stream",
          "text": [
            "Epoch 17/50: 100%|████████████████████████████████████████████████| 100/100 [03:30<00:00,  2.11s/it]\n"
          ]
        },
        {
          "name": "stdout",
          "output_type": "stream",
          "text": [
            "Epoch: 17, train_accuracy:  0.93, loss:  0.210, train_iou_score:  0.42, train_dice_score:  0.56\n"
          ]
        },
        {
          "name": "stderr",
          "output_type": "stream",
          "text": [
            "Epoch 18/50: 100%|████████████████████████████████████████████████| 100/100 [03:32<00:00,  2.13s/it]\n"
          ]
        },
        {
          "name": "stdout",
          "output_type": "stream",
          "text": [
            "Epoch: 18, train_accuracy:  0.93, loss:  0.205, train_iou_score:  0.44, train_dice_score:  0.58\n"
          ]
        },
        {
          "name": "stderr",
          "output_type": "stream",
          "text": [
            "Epoch 19/50: 100%|████████████████████████████████████████████████| 100/100 [03:31<00:00,  2.11s/it]\n"
          ]
        },
        {
          "name": "stdout",
          "output_type": "stream",
          "text": [
            "Epoch: 19, train_accuracy:  0.93, loss:  0.191, train_iou_score:  0.45, train_dice_score:  0.59\n"
          ]
        },
        {
          "name": "stderr",
          "output_type": "stream",
          "text": [
            "Epoch 20/50: 100%|████████████████████████████████████████████████| 100/100 [03:31<00:00,  2.11s/it]\n"
          ]
        },
        {
          "name": "stdout",
          "output_type": "stream",
          "text": [
            "Epoch: 20, train_accuracy:  0.93, loss:  0.187, train_iou_score:  0.46, train_dice_score:  0.62\n"
          ]
        },
        {
          "name": "stderr",
          "output_type": "stream",
          "text": [
            "Epoch 21/50: 100%|████████████████████████████████████████████████| 100/100 [03:29<00:00,  2.10s/it]\n"
          ]
        },
        {
          "name": "stdout",
          "output_type": "stream",
          "text": [
            "Epoch: 21, train_accuracy:  0.94, loss:  0.173, train_iou_score:  0.46, train_dice_score:  0.62\n"
          ]
        },
        {
          "name": "stderr",
          "output_type": "stream",
          "text": [
            "Epoch 22/50: 100%|████████████████████████████████████████████████| 100/100 [03:30<00:00,  2.10s/it]\n"
          ]
        },
        {
          "name": "stdout",
          "output_type": "stream",
          "text": [
            "Epoch: 22, train_accuracy:  0.94, loss:  0.164, train_iou_score:  0.47, train_dice_score:  0.64\n"
          ]
        },
        {
          "name": "stderr",
          "output_type": "stream",
          "text": [
            "Epoch 23/50: 100%|████████████████████████████████████████████████| 100/100 [03:30<00:00,  2.11s/it]\n"
          ]
        },
        {
          "name": "stdout",
          "output_type": "stream",
          "text": [
            "Epoch: 23, train_accuracy:  0.94, loss:  0.164, train_iou_score:  0.48, train_dice_score:  0.64\n"
          ]
        },
        {
          "name": "stderr",
          "output_type": "stream",
          "text": [
            "Epoch 24/50: 100%|████████████████████████████████████████████████| 100/100 [03:31<00:00,  2.11s/it]\n"
          ]
        },
        {
          "name": "stdout",
          "output_type": "stream",
          "text": [
            "Epoch: 24, train_accuracy:  0.94, loss:  0.155, train_iou_score:  0.47, train_dice_score:  0.64\n"
          ]
        },
        {
          "name": "stderr",
          "output_type": "stream",
          "text": [
            "Epoch 25/50: 100%|████████████████████████████████████████████████| 100/100 [03:31<00:00,  2.12s/it]\n"
          ]
        },
        {
          "name": "stdout",
          "output_type": "stream",
          "text": [
            "Epoch: 25, train_accuracy:  0.94, loss:  0.156, train_iou_score:  0.48, train_dice_score:  0.65\n"
          ]
        },
        {
          "name": "stderr",
          "output_type": "stream",
          "text": [
            "Epoch 26/50: 100%|████████████████████████████████████████████████| 100/100 [03:32<00:00,  2.12s/it]\n"
          ]
        },
        {
          "name": "stdout",
          "output_type": "stream",
          "text": [
            "Epoch: 26, train_accuracy:  0.94, loss:  0.156, train_iou_score:  0.47, train_dice_score:  0.65\n"
          ]
        },
        {
          "name": "stderr",
          "output_type": "stream",
          "text": [
            "Epoch 27/50: 100%|████████████████████████████████████████████████| 100/100 [03:30<00:00,  2.10s/it]\n"
          ]
        },
        {
          "name": "stdout",
          "output_type": "stream",
          "text": [
            "Epoch: 27, train_accuracy:  0.95, loss:  0.142, train_iou_score:  0.48, train_dice_score:  0.67\n"
          ]
        },
        {
          "name": "stderr",
          "output_type": "stream",
          "text": [
            "Epoch 28/50: 100%|████████████████████████████████████████████████| 100/100 [03:32<00:00,  2.12s/it]\n"
          ]
        },
        {
          "name": "stdout",
          "output_type": "stream",
          "text": [
            "Epoch: 28, train_accuracy:  0.95, loss:  0.142, train_iou_score:  0.49, train_dice_score:  0.68\n"
          ]
        },
        {
          "name": "stderr",
          "output_type": "stream",
          "text": [
            "Epoch 29/50: 100%|████████████████████████████████████████████████| 100/100 [03:32<00:00,  2.13s/it]\n"
          ]
        },
        {
          "name": "stdout",
          "output_type": "stream",
          "text": [
            "Epoch: 29, train_accuracy:  0.95, loss:  0.129, train_iou_score:  0.48, train_dice_score:  0.68\n"
          ]
        },
        {
          "name": "stderr",
          "output_type": "stream",
          "text": [
            "Epoch 30/50: 100%|████████████████████████████████████████████████| 100/100 [03:29<00:00,  2.09s/it]\n"
          ]
        },
        {
          "name": "stdout",
          "output_type": "stream",
          "text": [
            "Epoch: 30, train_accuracy:  0.95, loss:  0.124, train_iou_score:  0.50, train_dice_score:  0.69\n"
          ]
        },
        {
          "name": "stderr",
          "output_type": "stream",
          "text": [
            "Epoch 31/50: 100%|████████████████████████████████████████████████| 100/100 [03:31<00:00,  2.12s/it]\n"
          ]
        },
        {
          "name": "stdout",
          "output_type": "stream",
          "text": [
            "Epoch: 31, train_accuracy:  0.96, loss:  0.114, train_iou_score:  0.50, train_dice_score:  0.70\n"
          ]
        },
        {
          "name": "stderr",
          "output_type": "stream",
          "text": [
            "Epoch 32/50: 100%|████████████████████████████████████████████████| 100/100 [03:31<00:00,  2.11s/it]\n"
          ]
        },
        {
          "name": "stdout",
          "output_type": "stream",
          "text": [
            "Epoch: 32, train_accuracy:  0.95, loss:  0.130, train_iou_score:  0.50, train_dice_score:  0.69\n"
          ]
        },
        {
          "name": "stderr",
          "output_type": "stream",
          "text": [
            "Epoch 33/50: 100%|████████████████████████████████████████████████| 100/100 [03:31<00:00,  2.11s/it]\n"
          ]
        },
        {
          "name": "stdout",
          "output_type": "stream",
          "text": [
            "Epoch: 33, train_accuracy:  0.96, loss:  0.112, train_iou_score:  0.50, train_dice_score:  0.72\n"
          ]
        },
        {
          "name": "stderr",
          "output_type": "stream",
          "text": [
            "Epoch 34/50: 100%|████████████████████████████████████████████████| 100/100 [03:29<00:00,  2.09s/it]\n"
          ]
        },
        {
          "name": "stdout",
          "output_type": "stream",
          "text": [
            "Epoch: 34, train_accuracy:  0.95, loss:  0.113, train_iou_score:  0.50, train_dice_score:  0.71\n"
          ]
        },
        {
          "name": "stderr",
          "output_type": "stream",
          "text": [
            "Epoch 35/50: 100%|████████████████████████████████████████████████| 100/100 [03:30<00:00,  2.10s/it]\n"
          ]
        },
        {
          "name": "stdout",
          "output_type": "stream",
          "text": [
            "Epoch: 35, train_accuracy:  0.95, loss:  0.117, train_iou_score:  0.50, train_dice_score:  0.69\n"
          ]
        },
        {
          "name": "stderr",
          "output_type": "stream",
          "text": [
            "Epoch 36/50: 100%|████████████████████████████████████████████████| 100/100 [03:32<00:00,  2.13s/it]\n"
          ]
        },
        {
          "name": "stdout",
          "output_type": "stream",
          "text": [
            "Epoch: 36, train_accuracy:  0.95, loss:  0.135, train_iou_score:  0.49, train_dice_score:  0.69\n"
          ]
        },
        {
          "name": "stderr",
          "output_type": "stream",
          "text": [
            "Epoch 37/50: 100%|████████████████████████████████████████████████| 100/100 [03:31<00:00,  2.11s/it]\n"
          ]
        },
        {
          "name": "stdout",
          "output_type": "stream",
          "text": [
            "Epoch: 37, train_accuracy:  0.95, loss:  0.132, train_iou_score:  0.49, train_dice_score:  0.68\n"
          ]
        },
        {
          "name": "stderr",
          "output_type": "stream",
          "text": [
            "Epoch 38/50: 100%|████████████████████████████████████████████████| 100/100 [03:30<00:00,  2.11s/it]\n"
          ]
        },
        {
          "name": "stdout",
          "output_type": "stream",
          "text": [
            "Epoch: 38, train_accuracy:  0.96, loss:  0.114, train_iou_score:  0.50, train_dice_score:  0.71\n"
          ]
        },
        {
          "name": "stderr",
          "output_type": "stream",
          "text": [
            "Epoch 39/50: 100%|████████████████████████████████████████████████| 100/100 [03:30<00:00,  2.10s/it]\n"
          ]
        },
        {
          "name": "stdout",
          "output_type": "stream",
          "text": [
            "Epoch: 39, train_accuracy:  0.96, loss:  0.110, train_iou_score:  0.51, train_dice_score:  0.71\n"
          ]
        },
        {
          "name": "stderr",
          "output_type": "stream",
          "text": [
            "Epoch 40/50: 100%|████████████████████████████████████████████████| 100/100 [03:31<00:00,  2.11s/it]\n"
          ]
        },
        {
          "name": "stdout",
          "output_type": "stream",
          "text": [
            "Epoch: 40, train_accuracy:  0.96, loss:  0.112, train_iou_score:  0.51, train_dice_score:  0.72\n"
          ]
        },
        {
          "name": "stderr",
          "output_type": "stream",
          "text": [
            "Epoch 41/50: 100%|████████████████████████████████████████████████| 100/100 [03:30<00:00,  2.11s/it]\n"
          ]
        },
        {
          "name": "stdout",
          "output_type": "stream",
          "text": [
            "Epoch: 41, train_accuracy:  0.96, loss:  0.102, train_iou_score:  0.52, train_dice_score:  0.75\n"
          ]
        },
        {
          "name": "stderr",
          "output_type": "stream",
          "text": [
            "Epoch 42/50: 100%|████████████████████████████████████████████████| 100/100 [03:31<00:00,  2.11s/it]\n"
          ]
        },
        {
          "name": "stdout",
          "output_type": "stream",
          "text": [
            "Epoch: 42, train_accuracy:  0.96, loss:  0.104, train_iou_score:  0.52, train_dice_score:  0.73\n"
          ]
        },
        {
          "name": "stderr",
          "output_type": "stream",
          "text": [
            "Epoch 43/50: 100%|████████████████████████████████████████████████| 100/100 [03:31<00:00,  2.12s/it]\n"
          ]
        },
        {
          "name": "stdout",
          "output_type": "stream",
          "text": [
            "Epoch: 43, train_accuracy:  0.95, loss:  0.119, train_iou_score:  0.51, train_dice_score:  0.70\n"
          ]
        },
        {
          "name": "stderr",
          "output_type": "stream",
          "text": [
            "Epoch 44/50: 100%|████████████████████████████████████████████████| 100/100 [03:32<00:00,  2.13s/it]\n"
          ]
        },
        {
          "name": "stdout",
          "output_type": "stream",
          "text": [
            "Epoch: 44, train_accuracy:  0.96, loss:  0.116, train_iou_score:  0.50, train_dice_score:  0.70\n"
          ]
        },
        {
          "name": "stderr",
          "output_type": "stream",
          "text": [
            "Epoch 45/50: 100%|████████████████████████████████████████████████| 100/100 [03:32<00:00,  2.12s/it]\n"
          ]
        },
        {
          "name": "stdout",
          "output_type": "stream",
          "text": [
            "Epoch: 45, train_accuracy:  0.96, loss:  0.103, train_iou_score:  0.51, train_dice_score:  0.73\n"
          ]
        },
        {
          "name": "stderr",
          "output_type": "stream",
          "text": [
            "Epoch 46/50: 100%|████████████████████████████████████████████████| 100/100 [03:30<00:00,  2.11s/it]\n"
          ]
        },
        {
          "name": "stdout",
          "output_type": "stream",
          "text": [
            "Epoch: 46, train_accuracy:  0.96, loss:  0.097, train_iou_score:  0.52, train_dice_score:  0.74\n"
          ]
        },
        {
          "name": "stderr",
          "output_type": "stream",
          "text": [
            "Epoch 47/50: 100%|████████████████████████████████████████████████| 100/100 [03:31<00:00,  2.12s/it]\n"
          ]
        },
        {
          "name": "stdout",
          "output_type": "stream",
          "text": [
            "Epoch: 47, train_accuracy:  0.96, loss:  0.098, train_iou_score:  0.53, train_dice_score:  0.76\n"
          ]
        },
        {
          "name": "stderr",
          "output_type": "stream",
          "text": [
            "Epoch 48/50: 100%|████████████████████████████████████████████████| 100/100 [03:31<00:00,  2.12s/it]\n"
          ]
        },
        {
          "name": "stdout",
          "output_type": "stream",
          "text": [
            "Epoch: 48, train_accuracy:  0.96, loss:  0.098, train_iou_score:  0.52, train_dice_score:  0.75\n"
          ]
        },
        {
          "name": "stderr",
          "output_type": "stream",
          "text": [
            "Epoch 49/50: 100%|████████████████████████████████████████████████| 100/100 [03:32<00:00,  2.12s/it]\n"
          ]
        },
        {
          "name": "stdout",
          "output_type": "stream",
          "text": [
            "Epoch: 49, train_accuracy:  0.96, loss:  0.098, train_iou_score:  0.53, train_dice_score:  0.74\n"
          ]
        },
        {
          "name": "stderr",
          "output_type": "stream",
          "text": [
            "Epoch 50/50: 100%|████████████████████████████████████████████████| 100/100 [03:31<00:00,  2.11s/it]\n"
          ]
        },
        {
          "name": "stdout",
          "output_type": "stream",
          "text": [
            "Epoch: 50, train_accuracy:  0.96, loss:  0.093, train_iou_score:  0.53, train_dice_score:  0.76\n",
            "Saved successfully last weights to: ResUnet_weights.pt\n"
          ]
        }
      ],
      "source": [
        "model, history = train(model, trainloader, loss_fn, optimizer, dice_fn, iou_fn, num_epochs = 50, \n",
        "                       device = device, steps_per_epoch = 100, validation_split = None, save_last_weights = save_weights)"
      ]
    },
    {
      "cell_type": "markdown",
      "id": "07b1173d",
      "metadata": {
        "id": "07b1173d",
        "papermill": {
          "duration": 0.50998,
          "end_time": "2023-06-06T20:14:52.231302",
          "exception": false,
          "start_time": "2023-06-06T20:14:51.721322",
          "status": "completed"
        },
        "tags": []
      },
      "source": [
        "#Test model"
      ]
    },
    {
      "cell_type": "code",
      "execution_count": 14,
      "id": "38531b2b",
      "metadata": {
        "execution": {
          "iopub.execute_input": "2023-06-06T20:14:53.123388Z",
          "iopub.status.busy": "2023-06-06T20:14:53.122960Z",
          "iopub.status.idle": "2023-06-06T20:15:38.380431Z",
          "shell.execute_reply": "2023-06-06T20:15:38.379408Z"
        },
        "id": "38531b2b",
        "papermill": {
          "duration": 45.709164,
          "end_time": "2023-06-06T20:15:38.382790",
          "exception": false,
          "start_time": "2023-06-06T20:14:52.673626",
          "status": "completed"
        },
        "tags": [],
        "outputId": "7c0f808b-3272-42db-dc6d-f916076b36f6",
        "colab": {
          "base_uri": "https://localhost:8080/"
        }
      },
      "outputs": [
        {
          "output_type": "stream",
          "name": "stdout",
          "text": [
            "Using downloaded and verified file: /root/data/pascal_voc/VOCtrainval_11-May-2012.tar\n",
            "Extracting /root/data/pascal_voc/VOCtrainval_11-May-2012.tar to /root/data/pascal_voc\n"
          ]
        }
      ],
      "source": [
        "test_transform = A.Compose(\n",
        "    [\n",
        "        A.Resize(height = image_size[0], width = image_size[1]),\n",
        "        A.Normalize(),\n",
        "        A.pytorch.ToTensorV2()\n",
        "    ]\n",
        ")\n",
        "\n",
        "test_dataset  = PascalVOCSearchDataset(image_set = 'val', download = True, transform = test_transform)\n",
        "testloader = DataLoader(test_dataset , batch_size = batch_size, shuffle = False, num_workers = num_workers, drop_last = True)\n"
      ]
    },
    {
      "cell_type": "code",
      "execution_count": 19,
      "id": "3e7a8072",
      "metadata": {
        "execution": {
          "iopub.execute_input": "2023-06-06T20:15:39.266382Z",
          "iopub.status.busy": "2023-06-06T20:15:39.265986Z",
          "iopub.status.idle": "2023-06-06T20:18:40.892669Z",
          "shell.execute_reply": "2023-06-06T20:18:40.890748Z"
        },
        "id": "3e7a8072",
        "papermill": {
          "duration": 182.62441,
          "end_time": "2023-06-06T20:18:41.446591",
          "exception": false,
          "start_time": "2023-06-06T20:15:38.822181",
          "status": "completed"
        },
        "tags": [],
        "outputId": "b641804b-b08f-4395-83d8-aec99d8b4fec",
        "colab": {
          "base_uri": "https://localhost:8080/"
        }
      },
      "outputs": [
        {
          "output_type": "stream",
          "name": "stdout",
          "text": [
            "Weights loaded successfully from path: /content/drive/MyDrive/ColabNotebooks/Semantic_Segmentation/ResUnet_weights.pt\n",
            "====================================================\n"
          ]
        },
        {
          "output_type": "stream",
          "name": "stderr",
          "text": [
            "Evaluate: 100%|█████████████████████████████████████████████████████| 90/90 [03:27<00:00,  2.31s/it]"
          ]
        },
        {
          "output_type": "stream",
          "name": "stdout",
          "text": [
            "\n",
            "Test_accuracy:  0.93, test_loss:  0.316, test_dice_score:  0.59, test_iou_score:  0.43\n"
          ]
        },
        {
          "output_type": "stream",
          "name": "stderr",
          "text": [
            "\n"
          ]
        }
      ],
      "source": [
        "test_loss, test_accuracy, test_dice_score, test_iou_score = evaluate(\n",
        "    model, testloader, loss_fn, dice_fn, iou_fn, device = device, weights = weights, verbose = 1\n",
        ")\n",
        "\n",
        "print(f'\\nTest_accuracy: {test_accuracy: .2f}, test_loss: {test_loss: .3f}, test_dice_score: {test_dice_score: .2f}, test_iou_score: {test_iou_score: .2f}')"
      ]
    },
    {
      "cell_type": "markdown",
      "id": "f6d65312",
      "metadata": {
        "id": "f6d65312",
        "papermill": {
          "duration": 0.552962,
          "end_time": "2023-06-06T20:18:42.714876",
          "exception": false,
          "start_time": "2023-06-06T20:18:42.161914",
          "status": "completed"
        },
        "tags": []
      },
      "source": [
        "# Predict and visualize results"
      ]
    },
    {
      "cell_type": "code",
      "execution_count": 23,
      "id": "b257b96d",
      "metadata": {
        "execution": {
          "iopub.execute_input": "2023-06-06T20:18:43.612042Z",
          "iopub.status.busy": "2023-06-06T20:18:43.610936Z",
          "iopub.status.idle": "2023-06-06T20:18:44.653771Z",
          "shell.execute_reply": "2023-06-06T20:18:44.652198Z"
        },
        "id": "b257b96d",
        "papermill": {
          "duration": 1.493605,
          "end_time": "2023-06-06T20:18:44.656086",
          "exception": true,
          "start_time": "2023-06-06T20:18:43.162481",
          "status": "failed"
        },
        "tags": []
      },
      "outputs": [],
      "source": [
        "test_dataset  = PascalVOCSearchDataset(image_set = 'val', download = False, transform = None)\n",
        "predictor = Prediction(model, weights = weights, img_size = image_size, device = device)"
      ]
    },
    {
      "cell_type": "code",
      "execution_count": 30,
      "id": "667adc2f",
      "metadata": {
        "id": "667adc2f",
        "papermill": {
          "duration": null,
          "end_time": null,
          "exception": null,
          "start_time": null,
          "status": "pending"
        },
        "tags": [],
        "colab": {
          "base_uri": "https://localhost:8080/",
          "height": 279
        },
        "outputId": "4469e308-e387-4faf-90c3-1d951fea3718"
      },
      "outputs": [
        {
          "output_type": "display_data",
          "data": {
            "text/plain": [
              "<Figure size 1000x800 with 3 Axes>"
            ],
            "image/png": "[encoded data removed]"
          },
          "metadata": {}
        }
      ],
      "source": [
        "idx = random.randint(0, 200)\n",
        "img, groundtruth_mask = test_dataset.__getitem__(idx)\n",
        "predicted_mask = predictor.predict(img)\n",
        "visualize(img, groundtruth_mask, predicted_mask, color_map = VOC_COLORMAP)\n"
      ]
    },
    {
      "cell_type": "code",
      "execution_count": 33,
      "id": "9cc0d890",
      "metadata": {
        "id": "9cc0d890",
        "colab": {
          "base_uri": "https://localhost:8080/",
          "height": 254
        },
        "outputId": "2a446f2b-48fd-4438-e85f-73ae22453a47"
      },
      "outputs": [
        {
          "output_type": "display_data",
          "data": {
            "text/plain": [
              "<Figure size 1000x800 with 3 Axes>"
            ],
            "image/png": "[encoded data removed]"
          },
          "metadata": {}
        }
      ],
      "source": [
        "idx = random.randint(0, 200)\n",
        "img, groundtruth_mask = test_dataset.__getitem__(idx)\n",
        "predicted_mask = predictor.predict(img)\n",
        "visualize(img, groundtruth_mask, predicted_mask, color_map = VOC_COLORMAP)\n"
      ]
    },
    {
      "cell_type": "code",
      "source": [],
      "metadata": {
        "id": "9DFnNuevLyQW"
      },
      "id": "9DFnNuevLyQW",
      "execution_count": null,
      "outputs": []
    }
  ],
  "metadata": {
    "kernelspec": {
      "display_name": "Python 3",
      "name": "python3"
    },
    "language_info": {
      "codemirror_mode": {
        "name": "ipython",
        "version": 3
      },
      "file_extension": ".py",
      "mimetype": "text/x-python",
      "name": "python",
      "nbconvert_exporter": "python",
      "pygments_lexer": "ipython3",
      "version": "3.10.10"
    },
    "papermill": {
      "default_parameters": {},
      "duration": 11001.23605,
      "end_time": "2023-06-06T20:18:48.199569",
      "environment_variables": {},
      "exception": true,
      "input_path": "__notebook__.ipynb",
      "output_path": "__notebook__.ipynb",
      "parameters": {},
      "start_time": "2023-06-06T17:15:26.963519",
      "version": "2.4.0"
    },
    "colab": {
      "provenance": [],
      "gpuType": "T4",
      "include_colab_link": true
    },
    "accelerator": "GPU"
  },
  "nbformat": 4,
  "nbformat_minor": 5
}